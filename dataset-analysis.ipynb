{
 "cells": [
  {
   "cell_type": "markdown",
   "source": [
    "# SNLI Dataset Analysis\n",
    "- This notebook manipulates preprocessed files instead of original dataset\n",
    "    - See filter_data.py"
   ],
   "metadata": {
    "pycharm": {
     "metadata": false,
     "name": "#%% md\n",
     "is_executing": false
    }
   }
  },
  {
   "cell_type": "code",
   "execution_count": 5,
   "outputs": [
    {
     "data": {
      "text/plain": "premise       object\nhypothesis    object\nlabel         object\ndtype: object"
     },
     "metadata": {},
     "output_type": "display_data"
    },
    {
     "data": {
      "text/plain": "                                             premise  \\\n0  A person on a horse jumps over a broken down a...   \n1  A person on a horse jumps over a broken down a...   \n2  A person on a horse jumps over a broken down a...   \n3              Children smiling and waving at camera   \n4              Children smiling and waving at camera   \n\n                                          hypothesis          label  \n0  A person is training his horse for a competition.        neutral  \n1      A person is at a diner, ordering an omelette.  contradiction  \n2                  A person is outdoors, on a horse.     entailment  \n3                  They are smiling at their parents        neutral  \n4                         There are children present     entailment  ",
      "text/html": "<div>\n<style scoped>\n    .dataframe tbody tr th:only-of-type {\n        vertical-align: middle;\n    }\n\n    .dataframe tbody tr th {\n        vertical-align: top;\n    }\n\n    .dataframe thead th {\n        text-align: right;\n    }\n</style>\n<table border=\"1\" class=\"dataframe\">\n  <thead>\n    <tr style=\"text-align: right;\">\n      <th></th>\n      <th>premise</th>\n      <th>hypothesis</th>\n      <th>label</th>\n    </tr>\n  </thead>\n  <tbody>\n    <tr>\n      <th>0</th>\n      <td>A person on a horse jumps over a broken down a...</td>\n      <td>A person is training his horse for a competition.</td>\n      <td>neutral</td>\n    </tr>\n    <tr>\n      <th>1</th>\n      <td>A person on a horse jumps over a broken down a...</td>\n      <td>A person is at a diner, ordering an omelette.</td>\n      <td>contradiction</td>\n    </tr>\n    <tr>\n      <th>2</th>\n      <td>A person on a horse jumps over a broken down a...</td>\n      <td>A person is outdoors, on a horse.</td>\n      <td>entailment</td>\n    </tr>\n    <tr>\n      <th>3</th>\n      <td>Children smiling and waving at camera</td>\n      <td>They are smiling at their parents</td>\n      <td>neutral</td>\n    </tr>\n    <tr>\n      <th>4</th>\n      <td>Children smiling and waving at camera</td>\n      <td>There are children present</td>\n      <td>entailment</td>\n    </tr>\n  </tbody>\n</table>\n</div>"
     },
     "metadata": {},
     "output_type": "execute_result",
     "execution_count": 5
    }
   ],
   "source": [
    "import pandas as pd\n",
    "\n",
    "train_path = '.data/snli-1.0-formatted-train.csv'\n",
    "train_df = pd.read_csv(train_path, sep='\\t')\n",
    "display(train_df.dtypes)\n",
    "train_df[:5]"
   ],
   "metadata": {
    "collapsed": false,
    "pycharm": {
     "name": "#%%\n",
     "is_executing": false
    }
   }
  },
  {
   "cell_type": "markdown",
   "source": [
    "- Describe statistics about labels"
   ],
   "metadata": {
    "collapsed": false,
    "pycharm": {
     "name": "#%% md\n"
    }
   }
  },
  {
   "cell_type": "code",
   "execution_count": 6,
   "outputs": [
    {
     "data": {
      "text/plain": "                label\n                count\nlabel                \ncontradiction  183187\nentailment     183416\nneutral        182764",
      "text/html": "<div>\n<style scoped>\n    .dataframe tbody tr th:only-of-type {\n        vertical-align: middle;\n    }\n\n    .dataframe tbody tr th {\n        vertical-align: top;\n    }\n\n    .dataframe thead tr th {\n        text-align: left;\n    }\n\n    .dataframe thead tr:last-of-type th {\n        text-align: right;\n    }\n</style>\n<table border=\"1\" class=\"dataframe\">\n  <thead>\n    <tr>\n      <th></th>\n      <th>label</th>\n    </tr>\n    <tr>\n      <th></th>\n      <th>count</th>\n    </tr>\n    <tr>\n      <th>label</th>\n      <th></th>\n    </tr>\n  </thead>\n  <tbody>\n    <tr>\n      <th>contradiction</th>\n      <td>183187</td>\n    </tr>\n    <tr>\n      <th>entailment</th>\n      <td>183416</td>\n    </tr>\n    <tr>\n      <th>neutral</th>\n      <td>182764</td>\n    </tr>\n  </tbody>\n</table>\n</div>"
     },
     "metadata": {},
     "output_type": "display_data"
    },
    {
     "data": {
      "text/plain": "<matplotlib.axes._subplots.AxesSubplot at 0x7fe8ab317898>"
     },
     "metadata": {},
     "output_type": "execute_result",
     "execution_count": 6
    },
    {
     "data": {
      "text/plain": "<Figure size 432x288 with 1 Axes>",
      "image/png": "[encoded data removed]"
     },
     "metadata": {
      "needs_background": "light"
     },
     "output_type": "display_data"
    }
   ],
   "source": [
    "grouped_df = train_df.groupby(['label']).agg({'label': ['count']})\n",
    "display(grouped_df)\n",
    "grouped_df.plot(kind='bar', title='Premise-Hypothesis per label')"
   ],
   "metadata": {
    "collapsed": false,
    "pycharm": {
     "name": "#%%\n",
     "is_executing": false
    }
   }
  },
  {
   "cell_type": "markdown",
   "source": [
    "\n",
    "\n",
    "\n",
    "\n",
    "\n",
    "# Sentence Length Analysis\n",
    "- This analysis shows an aproximated max_len that we can use in a neural network"
   ],
   "metadata": {
    "collapsed": false
   }
  },
  {
   "cell_type": "code",
   "execution_count": 7,
   "outputs": [
    {
     "data": {
      "text/plain": "                                             premise  \\\n0  A person on a horse jumps over a broken down a...   \n1  A person on a horse jumps over a broken down a...   \n2  A person on a horse jumps over a broken down a...   \n3              Children smiling and waving at camera   \n4              Children smiling and waving at camera   \n\n                                          hypothesis          label  p_length  \\\n0  A person is training his horse for a competition.        neutral        11   \n1      A person is at a diner, ordering an omelette.  contradiction        11   \n2                  A person is outdoors, on a horse.     entailment        11   \n3                  They are smiling at their parents        neutral         6   \n4                         There are children present     entailment         6   \n\n   h_length  \n0         9  \n1         9  \n2         7  \n3         6  \n4         4  ",
      "text/html": "<div>\n<style scoped>\n    .dataframe tbody tr th:only-of-type {\n        vertical-align: middle;\n    }\n\n    .dataframe tbody tr th {\n        vertical-align: top;\n    }\n\n    .dataframe thead th {\n        text-align: right;\n    }\n</style>\n<table border=\"1\" class=\"dataframe\">\n  <thead>\n    <tr style=\"text-align: right;\">\n      <th></th>\n      <th>premise</th>\n      <th>hypothesis</th>\n      <th>label</th>\n      <th>p_length</th>\n      <th>h_length</th>\n    </tr>\n  </thead>\n  <tbody>\n    <tr>\n      <th>0</th>\n      <td>A person on a horse jumps over a broken down a...</td>\n      <td>A person is training his horse for a competition.</td>\n      <td>neutral</td>\n      <td>11</td>\n      <td>9</td>\n    </tr>\n    <tr>\n      <th>1</th>\n      <td>A person on a horse jumps over a broken down a...</td>\n      <td>A person is at a diner, ordering an omelette.</td>\n      <td>contradiction</td>\n      <td>11</td>\n      <td>9</td>\n    </tr>\n    <tr>\n      <th>2</th>\n      <td>A person on a horse jumps over a broken down a...</td>\n      <td>A person is outdoors, on a horse.</td>\n      <td>entailment</td>\n      <td>11</td>\n      <td>7</td>\n    </tr>\n    <tr>\n      <th>3</th>\n      <td>Children smiling and waving at camera</td>\n      <td>They are smiling at their parents</td>\n      <td>neutral</td>\n      <td>6</td>\n      <td>6</td>\n    </tr>\n    <tr>\n      <th>4</th>\n      <td>Children smiling and waving at camera</td>\n      <td>There are children present</td>\n      <td>entailment</td>\n      <td>6</td>\n      <td>4</td>\n    </tr>\n  </tbody>\n</table>\n</div>"
     },
     "metadata": {},
     "output_type": "execute_result",
     "execution_count": 7
    }
   ],
   "source": [
    "train_df['premise'] =  train_df['premise'].astype(str)\n",
    "train_df['p_length'] = train_df['premise'].apply(lambda row: len(row.split()))\n",
    "train_df['hypothesis'] =  train_df['hypothesis'].astype(str)\n",
    "train_df['h_length'] = train_df['hypothesis'].apply(lambda row: len(row.split()))\n",
    "train_df[:5]"
   ],
   "metadata": {
    "collapsed": false,
    "pycharm": {
     "name": "#%%\n",
     "is_executing": false
    }
   }
  },
  {
   "cell_type": "code",
   "execution_count": 42,
   "outputs": [
    {
     "data": {
      "text/plain": "            p_length       h_length\ncount  549367.000000  549367.000000\nmean       12.849376       7.415748\nstd         5.656857       3.067807\nmin         2.000000       1.000000\n25%         9.000000       5.000000\n50%        12.000000       7.000000\n75%        16.000000       9.000000\n99.9%      44.000000      24.000000\nmax        78.000000      56.000000",
      "text/html": "<div>\n<style scoped>\n    .dataframe tbody tr th:only-of-type {\n        vertical-align: middle;\n    }\n\n    .dataframe tbody tr th {\n        vertical-align: top;\n    }\n\n    .dataframe thead th {\n        text-align: right;\n    }\n</style>\n<table border=\"1\" class=\"dataframe\">\n  <thead>\n    <tr style=\"text-align: right;\">\n      <th></th>\n      <th>p_length</th>\n      <th>h_length</th>\n    </tr>\n  </thead>\n  <tbody>\n    <tr>\n      <th>count</th>\n      <td>549367.000000</td>\n      <td>549367.000000</td>\n    </tr>\n    <tr>\n      <th>mean</th>\n      <td>12.849376</td>\n      <td>7.415748</td>\n    </tr>\n    <tr>\n      <th>std</th>\n      <td>5.656857</td>\n      <td>3.067807</td>\n    </tr>\n    <tr>\n      <th>min</th>\n      <td>2.000000</td>\n      <td>1.000000</td>\n    </tr>\n    <tr>\n      <th>25%</th>\n      <td>9.000000</td>\n      <td>5.000000</td>\n    </tr>\n    <tr>\n      <th>50%</th>\n      <td>12.000000</td>\n      <td>7.000000</td>\n    </tr>\n    <tr>\n      <th>75%</th>\n      <td>16.000000</td>\n      <td>9.000000</td>\n    </tr>\n    <tr>\n      <th>99.9%</th>\n      <td>44.000000</td>\n      <td>24.000000</td>\n    </tr>\n    <tr>\n      <th>max</th>\n      <td>78.000000</td>\n      <td>56.000000</td>\n    </tr>\n  </tbody>\n</table>\n</div>"
     },
     "metadata": {},
     "output_type": "display_data"
    },
    {
     "data": {
      "text/plain": "<matplotlib.axes._subplots.AxesSubplot at 0x7fe8b8e13d30>"
     },
     "metadata": {},
     "output_type": "display_data"
    },
    {
     "data": {
      "text/plain": "<Figure size 432x288 with 1 Axes>",
      "image/png": "[encoded data removed]"
     },
     "metadata": {
      "needs_background": "light"
     },
     "output_type": "display_data"
    }
   ],
   "source": [
    "len_df = train_df[['p_length', 'h_length']]\n",
    "display(len_df.describe(percentiles=[.25, .5, .75, .999]))\n",
    "display(len_df.boxplot())\n",
    "\n"
   ],
   "metadata": {
    "collapsed": false,
    "pycharm": {
     "name": "#%% \n",
     "is_executing": false
    }
   }
  },
  {
   "cell_type": "markdown",
   "source": [
    "# Byte Pair Encoding\n",
    "- Create a file with all of sentences contained in SNLI to train a *Byte-Pair Encoding*"
   ],
   "metadata": {
    "collapsed": false,
    "pycharm": {
     "name": "#%% md\n"
    }
   }
  },
  {
   "cell_type": "code",
   "execution_count": null,
   "outputs": [],
   "source": [
    "premises = train_df['premise']\n",
    "premises.column = ['text']\n",
    "hypothesis = train_df['hypothesis']\n",
    "hypothesis.column = ['text']\n",
    "texts = pd.concat([premises, hypothesis])\n",
    "display('Number of sentences: {}'.format(len(texts)))\n",
    "texts.to_csv(r'.data/snli_sentences.txt', header=None, index=None)"
   ],
   "metadata": {
    "collapsed": false,
    "pycharm": {
     "name": "#%%\n"
    }
   }
  },
  {
   "cell_type": "markdown",
   "source": [
    "- Serialize the train/vat/test sets into a compact format"
   ],
   "metadata": {
    "collapsed": false,
    "pycharm": {
     "name": "#%% md\n",
     "is_executing": false
    }
   }
  },
  {
   "cell_type": "code",
   "execution_count": 1,
   "outputs": [
    {
     "traceback": [
      "\u001b[0;31m---------------------------------------------------------------------------\u001b[0m",
      "\u001b[0;31mNameError\u001b[0m                                 Traceback (most recent call last)",
      "\u001b[0;32m<ipython-input-1-fc89848c025a>\u001b[0m in \u001b[0;36m<module>\u001b[0;34m\u001b[0m\n\u001b[1;32m      1\u001b[0m \u001b[0mtrain_path\u001b[0m \u001b[0;34m=\u001b[0m \u001b[0;34m'.data/snli_1.0/snli_1.0_train.jsonl'\u001b[0m\u001b[0;34m\u001b[0m\u001b[0;34m\u001b[0m\u001b[0m\n\u001b[0;32m----> 2\u001b[0;31m \u001b[0mdf\u001b[0m \u001b[0;34m=\u001b[0m \u001b[0mpd\u001b[0m\u001b[0;34m.\u001b[0m\u001b[0mread_json\u001b[0m\u001b[0;34m(\u001b[0m\u001b[0mtrain_path\u001b[0m\u001b[0;34m,\u001b[0m \u001b[0mlines\u001b[0m\u001b[0;34m=\u001b[0m\u001b[0;32mTrue\u001b[0m\u001b[0;34m)\u001b[0m\u001b[0;34m\u001b[0m\u001b[0;34m\u001b[0m\u001b[0m\n\u001b[0m\u001b[1;32m      3\u001b[0m \u001b[0mdf\u001b[0m\u001b[0;34m.\u001b[0m\u001b[0mcolumns\u001b[0m\u001b[0;34m\u001b[0m\u001b[0;34m\u001b[0m\u001b[0m\n",
      "\u001b[0;31mNameError\u001b[0m: name 'pd' is not defined"
     ],
     "ename": "NameError",
     "evalue": "name 'pd' is not defined",
     "output_type": "error"
    }
   ],
   "source": [
    "val_path = '.data/snli_1.0/snli_1.0_val.jsonl'\n",
    "test_path = '.data/snli_1.0/snli_1.0_test.jsonl'\n",
    "val_df = pd.read_json(val_path, lines=True)\n",
    "val_df = filter_df(val_df)\n",
    "test_df = pd.read_json(val_path, lines=True)\n",
    "test_df = filter_df(test_df)"
   ],
   "metadata": {
    "collapsed": false,
    "pycharm": {
     "name": "#%%\n",
     "is_executing": false
    }
   }
  },
  {
   "cell_type": "code",
   "execution_count": null,
   "outputs": [],
   "source": [
    "\n"
   ],
   "metadata": {
    "collapsed": false,
    "pycharm": {
     "name": "#%%\n"
    }
   }
  }
 ],
 "metadata": {
  "language_info": {
   "codemirror_mode": {
    "name": "ipython",
    "version": 2
   },
   "file_extension": ".py",
   "mimetype": "text/x-python",
   "name": "python",
   "nbconvert_exporter": "python",
   "pygments_lexer": "ipython2",
   "version": "2.7.6"
  },
  "kernelspec": {
   "name": "pycharm-342b9ea3",
   "language": "python",
   "display_name": "PyCharm (SNLI-analysis)"
  },
  "stem_cell": {
   "cell_type": "raw",
   "source": "",
   "metadata": {
    "pycharm": {
     "metadata": false
    }
   }
  },
  "pycharm": {
   "stem_cell": {
    "cell_type": "raw",
    "source": [],
    "metadata": {
     "collapsed": false
    }
   }
  }
 },
 "nbformat": 4,
 "nbformat_minor": 0
}