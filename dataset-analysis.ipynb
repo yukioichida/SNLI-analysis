{
 "cells": [
  {
   "cell_type": "markdown",
   "source": [
    "# SNLI Dataset Analysis\n",
    "- This notebook manipulates preprocessed files instead of original dataset\n",
    "    - See filter_data.py"
   ],
   "metadata": {
    "pycharm": {
     "metadata": false,
     "name": "#%% md\n",
     "is_executing": false
    }
   }
  },
  {
   "cell_type": "code",
   "execution_count": 13,
   "outputs": [
    {
     "data": {
      "text/plain": "premise       object\nhypothesis    object\nlabel         object\ndtype: object"
     },
     "metadata": {},
     "output_type": "display_data"
    },
    {
     "data": {
      "text/plain": "                                             premise  \\\n0  A person on a horse jumps over a broken down a...   \n1  A person on a horse jumps over a broken down a...   \n2  A person on a horse jumps over a broken down a...   \n3              Children smiling and waving at camera   \n4              Children smiling and waving at camera   \n\n                                          hypothesis          label  \n0  A person is training his horse for a competition.        neutral  \n1      A person is at a diner, ordering an omelette.  contradiction  \n2                  A person is outdoors, on a horse.     entailment  \n3                  They are smiling at their parents        neutral  \n4                         There are children present     entailment  ",
      "text/html": "<div>\n<style scoped>\n    .dataframe tbody tr th:only-of-type {\n        vertical-align: middle;\n    }\n\n    .dataframe tbody tr th {\n        vertical-align: top;\n    }\n\n    .dataframe thead th {\n        text-align: right;\n    }\n</style>\n<table border=\"1\" class=\"dataframe\">\n  <thead>\n    <tr style=\"text-align: right;\">\n      <th></th>\n      <th>premise</th>\n      <th>hypothesis</th>\n      <th>label</th>\n    </tr>\n  </thead>\n  <tbody>\n    <tr>\n      <th>0</th>\n      <td>A person on a horse jumps over a broken down a...</td>\n      <td>A person is training his horse for a competition.</td>\n      <td>neutral</td>\n    </tr>\n    <tr>\n      <th>1</th>\n      <td>A person on a horse jumps over a broken down a...</td>\n      <td>A person is at a diner, ordering an omelette.</td>\n      <td>contradiction</td>\n    </tr>\n    <tr>\n      <th>2</th>\n      <td>A person on a horse jumps over a broken down a...</td>\n      <td>A person is outdoors, on a horse.</td>\n      <td>entailment</td>\n    </tr>\n    <tr>\n      <th>3</th>\n      <td>Children smiling and waving at camera</td>\n      <td>They are smiling at their parents</td>\n      <td>neutral</td>\n    </tr>\n    <tr>\n      <th>4</th>\n      <td>Children smiling and waving at camera</td>\n      <td>There are children present</td>\n      <td>entailment</td>\n    </tr>\n  </tbody>\n</table>\n</div>"
     },
     "metadata": {},
     "output_type": "execute_result",
     "execution_count": 13
    }
   ],
   "source": [
    "import pandas as pd\n",
    "\n",
    "train_path = '.data/snli-1.0-formatted-train.csv'\n",
    "train_df = pd.read_csv(train_path, sep='\\t')\n",
    "display(train_df.dtypes)\n",
    "train_df[:5]"
   ],
   "metadata": {
    "collapsed": false,
    "pycharm": {
     "name": "#%%\n",
     "is_executing": false
    }
   }
  },
  {
   "cell_type": "markdown",
   "source": [
    "- Describe statistics about labels"
   ],
   "metadata": {
    "collapsed": false,
    "pycharm": {
     "name": "#%% md\n"
    }
   }
  },
  {
   "cell_type": "code",
   "execution_count": 2,
   "outputs": [
    {
     "data": {
      "text/plain": "                label\n                count\nlabel                \ncontradiction  183187\nentailment     183416\nneutral        182764",
      "text/html": "<div>\n<style scoped>\n    .dataframe tbody tr th:only-of-type {\n        vertical-align: middle;\n    }\n\n    .dataframe tbody tr th {\n        vertical-align: top;\n    }\n\n    .dataframe thead tr th {\n        text-align: left;\n    }\n\n    .dataframe thead tr:last-of-type th {\n        text-align: right;\n    }\n</style>\n<table border=\"1\" class=\"dataframe\">\n  <thead>\n    <tr>\n      <th></th>\n      <th>label</th>\n    </tr>\n    <tr>\n      <th></th>\n      <th>count</th>\n    </tr>\n    <tr>\n      <th>label</th>\n      <th></th>\n    </tr>\n  </thead>\n  <tbody>\n    <tr>\n      <th>contradiction</th>\n      <td>183187</td>\n    </tr>\n    <tr>\n      <th>entailment</th>\n      <td>183416</td>\n    </tr>\n    <tr>\n      <th>neutral</th>\n      <td>182764</td>\n    </tr>\n  </tbody>\n</table>\n</div>"
     },
     "metadata": {},
     "output_type": "display_data"
    },
    {
     "data": {
      "text/plain": "<matplotlib.axes._subplots.AxesSubplot at 0x7f4a0fbdd2b0>"
     },
     "metadata": {},
     "output_type": "execute_result",
     "execution_count": 2
    }
   ],
   "source": [
    "grouped_df = train_df.groupby(['label']).agg({'label': ['count']})\n",
    "display(grouped_df)\n",
    "grouped_df.plot(kind='bar', title='Premise-Hypothesis per label')"
   ],
   "metadata": {
    "collapsed": false,
    "pycharm": {
     "name": "#%%\n",
     "is_executing": false
    }
   }
  },
  {
   "cell_type": "markdown",
   "source": [
    "\n",
    "\n",
    "# Sentence Length Analysis\n",
    "- This analysis shows an aproximated max_len that we can use in a neural network"
   ],
   "metadata": {
    "collapsed": false
   }
  },
  {
   "cell_type": "code",
   "execution_count": 3,
   "outputs": [
    {
     "data": {
      "text/plain": "                                             premise  \\\n0  A person on a horse jumps over a broken down a...   \n1  A person on a horse jumps over a broken down a...   \n2  A person on a horse jumps over a broken down a...   \n3              Children smiling and waving at camera   \n4              Children smiling and waving at camera   \n\n                                          hypothesis          label  p_length  \\\n0  A person is training his horse for a competition.        neutral        11   \n1      A person is at a diner, ordering an omelette.  contradiction        11   \n2                  A person is outdoors, on a horse.     entailment        11   \n3                  They are smiling at their parents        neutral         6   \n4                         There are children present     entailment         6   \n\n   h_length  \n0         9  \n1         9  \n2         7  \n3         6  \n4         4  ",
      "text/html": "<div>\n<style scoped>\n    .dataframe tbody tr th:only-of-type {\n        vertical-align: middle;\n    }\n\n    .dataframe tbody tr th {\n        vertical-align: top;\n    }\n\n    .dataframe thead th {\n        text-align: right;\n    }\n</style>\n<table border=\"1\" class=\"dataframe\">\n  <thead>\n    <tr style=\"text-align: right;\">\n      <th></th>\n      <th>premise</th>\n      <th>hypothesis</th>\n      <th>label</th>\n      <th>p_length</th>\n      <th>h_length</th>\n    </tr>\n  </thead>\n  <tbody>\n    <tr>\n      <th>0</th>\n      <td>A person on a horse jumps over a broken down a...</td>\n      <td>A person is training his horse for a competition.</td>\n      <td>neutral</td>\n      <td>11</td>\n      <td>9</td>\n    </tr>\n    <tr>\n      <th>1</th>\n      <td>A person on a horse jumps over a broken down a...</td>\n      <td>A person is at a diner, ordering an omelette.</td>\n      <td>contradiction</td>\n      <td>11</td>\n      <td>9</td>\n    </tr>\n    <tr>\n      <th>2</th>\n      <td>A person on a horse jumps over a broken down a...</td>\n      <td>A person is outdoors, on a horse.</td>\n      <td>entailment</td>\n      <td>11</td>\n      <td>7</td>\n    </tr>\n    <tr>\n      <th>3</th>\n      <td>Children smiling and waving at camera</td>\n      <td>They are smiling at their parents</td>\n      <td>neutral</td>\n      <td>6</td>\n      <td>6</td>\n    </tr>\n    <tr>\n      <th>4</th>\n      <td>Children smiling and waving at camera</td>\n      <td>There are children present</td>\n      <td>entailment</td>\n      <td>6</td>\n      <td>4</td>\n    </tr>\n  </tbody>\n</table>\n</div>"
     },
     "metadata": {},
     "output_type": "execute_result",
     "execution_count": 3
    }
   ],
   "source": [
    "train_df['premise'] =  train_df['premise'].astype(str)\n",
    "train_df['p_length'] = train_df['premise'].apply(lambda row: len(row.split()))\n",
    "train_df['hypothesis'] =  train_df['hypothesis'].astype(str)\n",
    "train_df['h_length'] = train_df['hypothesis'].apply(lambda row: len(row.split()))\n",
    "train_df[:5]"
   ],
   "metadata": {
    "collapsed": false,
    "pycharm": {
     "name": "#%%\n",
     "is_executing": false
    }
   }
  },
  {
   "cell_type": "code",
   "execution_count": 42,
   "outputs": [
    {
     "data": {
      "text/plain": "            p_length       h_length\ncount  549367.000000  549367.000000\nmean       12.849376       7.415748\nstd         5.656857       3.067807\nmin         2.000000       1.000000\n25%         9.000000       5.000000\n50%        12.000000       7.000000\n75%        16.000000       9.000000\n99.9%      44.000000      24.000000\nmax        78.000000      56.000000",
      "text/html": "<div>\n<style scoped>\n    .dataframe tbody tr th:only-of-type {\n        vertical-align: middle;\n    }\n\n    .dataframe tbody tr th {\n        vertical-align: top;\n    }\n\n    .dataframe thead th {\n        text-align: right;\n    }\n</style>\n<table border=\"1\" class=\"dataframe\">\n  <thead>\n    <tr style=\"text-align: right;\">\n      <th></th>\n      <th>p_length</th>\n      <th>h_length</th>\n    </tr>\n  </thead>\n  <tbody>\n    <tr>\n      <th>count</th>\n      <td>549367.000000</td>\n      <td>549367.000000</td>\n    </tr>\n    <tr>\n      <th>mean</th>\n      <td>12.849376</td>\n      <td>7.415748</td>\n    </tr>\n    <tr>\n      <th>std</th>\n      <td>5.656857</td>\n      <td>3.067807</td>\n    </tr>\n    <tr>\n      <th>min</th>\n      <td>2.000000</td>\n      <td>1.000000</td>\n    </tr>\n    <tr>\n      <th>25%</th>\n      <td>9.000000</td>\n      <td>5.000000</td>\n    </tr>\n    <tr>\n      <th>50%</th>\n      <td>12.000000</td>\n      <td>7.000000</td>\n    </tr>\n    <tr>\n      <th>75%</th>\n      <td>16.000000</td>\n      <td>9.000000</td>\n    </tr>\n    <tr>\n      <th>99.9%</th>\n      <td>44.000000</td>\n      <td>24.000000</td>\n    </tr>\n    <tr>\n      <th>max</th>\n      <td>78.000000</td>\n      <td>56.000000</td>\n    </tr>\n  </tbody>\n</table>\n</div>"
     },
     "metadata": {},
     "output_type": "display_data"
    },
    {
     "data": {
      "text/plain": "<matplotlib.axes._subplots.AxesSubplot at 0x7fe8b8e13d30>"
     },
     "metadata": {},
     "output_type": "display_data"
    },
    {
     "data": {
      "text/plain": "<Figure size 432x288 with 1 Axes>",
      "image/png": "[encoded data removed]"
     },
     "metadata": {
      "needs_background": "light"
     },
     "output_type": "display_data"
    }
   ],
   "source": [
    "len_df = train_df[['p_length', 'h_length']]\n",
    "display(len_df.describe(percentiles=[.25, .5, .75, .999]))\n",
    "display(len_df.boxplot())"
   ],
   "metadata": {
    "collapsed": false,
    "pycharm": {
     "name": "#%% \n",
     "is_executing": false
    }
   }
  },
  {
   "cell_type": "markdown",
   "source": [
    "\n",
    "\n",
    "# Byte Pair Encoding\n",
    "- Create a file with all of sentences contained in SNLI to train a *Byte-Pair Encoding*"
   ],
   "metadata": {
    "collapsed": false,
    "pycharm": {
     "name": "#%% md\n"
    }
   }
  },
  {
   "cell_type": "code",
   "execution_count": 4,
   "outputs": [
    {
     "data": {
      "text/plain": "'Number of sentences: 1098734'"
     },
     "metadata": {},
     "output_type": "display_data"
    },
    {
     "name": "stderr",
     "text": [
      "/home/ichida/.local/lib/python3.6/site-packages/ipykernel_launcher.py:7: FutureWarning: The signature of `Series.to_csv` was aligned to that of `DataFrame.to_csv`, and argument 'header' will change its default value from False to True: please pass an explicit value to suppress this warning.\n  import sys\n"
     ],
     "output_type": "stream"
    }
   ],
   "source": [
    "premises = train_df['premise'].apply(lambda row : row.lower())\n",
    "premises.column = ['text']\n",
    "hypothesis = train_df['hypothesis'].apply(lambda row : row.lower())\n",
    "hypothesis.column = ['text']\n",
    "texts = pd.concat([premises, hypothesis])\n",
    "display('Number of sentences: {}'.format(len(texts)))\n",
    "texts.to_csv(r'.data/snli_sentences.txt', header=None, index=None)"
   ],
   "metadata": {
    "collapsed": false,
    "pycharm": {
     "name": "#%%\n",
     "is_executing": false
    }
   }
  },
  {
   "cell_type": "markdown",
   "source": [
    "- Load test and val dataset and apply bpe into the sentences"
   ],
   "metadata": {
    "collapsed": false,
    "pycharm": {
     "name": "#%% md\n",
     "is_executing": false
    }
   }
  },
  {
   "cell_type": "code",
   "execution_count": 5,
   "outputs": [
    {
     "data": {
      "text/plain": "['this is s@@ part@@ a', 'this is spar@@ tial', 'this is part@@ a']"
     },
     "metadata": {},
     "output_type": "execute_result",
     "execution_count": 5
    }
   ],
   "source": [
    "import fastBPE\n",
    "bpe_codes_path = '.data/codes.bpe'\n",
    "bpe_vocab_path = '.data/vocab_20000.bpe'\n",
    "val_path = '.data/snli-1.0-formatted-val.csv'\n",
    "test_path = '.data/snli-1.0-formatted-test.csv'\n",
    "val_df = pd.read_csv(val_path, sep='\\t')\n",
    "test_df = pd.read_csv(test_path, sep='\\t')\n",
    "\n",
    "bpe = fastBPE.fastBPE(bpe_codes_path, bpe_vocab_path)\n",
    "bpe.apply(['this is sparta', 'this is spartial', 'this is parta'])"
   ],
   "metadata": {
    "collapsed": false,
    "pycharm": {
     "name": "#%%\n",
     "is_executing": false
    }
   }
  },
  {
   "cell_type": "markdown",
   "source": [
    " ## Convert sentences to BPE format"
   ],
   "metadata": {
    "collapsed": false,
    "pycharm": {
     "name": "#%% md\n"
    }
   }
  },
  {
   "cell_type": "code",
   "execution_count": 14,
   "outputs": [
    {
     "data": {
      "text/plain": "                                             premise  \\\n0  A person on a horse jumps over a broken down a...   \n1  A person on a horse jumps over a broken down a...   \n2  A person on a horse jumps over a broken down a...   \n3  C@@ hi@@ ld@@ re@@ n smiling and waving at camera   \n4  C@@ hi@@ ld@@ re@@ n smiling and waving at camera   \n5  C@@ hi@@ ld@@ re@@ n smiling and waving at camera   \n6  A boy is jumping on skateboard in the middle o...   \n7  A boy is jumping on skateboard in the middle o...   \n8  A boy is jumping on skateboard in the middle o...   \n9  A@@ n older man sits with his orange juice at ...   \n\n                                          hypothesis          label  \n0  A person is training his horse for a competition.        neutral  \n1  A person is at a din@@ er, ordering an ome@@ l...  contradiction  \n2                  A person is outdoors, on a horse.     entailment  \n3            T@@ he@@ y are smiling at their parents        neutral  \n4                      T@@ here are children present     entailment  \n5                           T@@ he kids are frowning  contradiction  \n6               T@@ he boy skates down the sidewalk.  contradiction  \n7             T@@ he boy does a skateboarding trick.     entailment  \n8            T@@ he boy is wearing safety equipment.        neutral  \n9  A@@ n older man drinks his juice as he waits f...        neutral  ",
      "text/html": "<div>\n<style scoped>\n    .dataframe tbody tr th:only-of-type {\n        vertical-align: middle;\n    }\n\n    .dataframe tbody tr th {\n        vertical-align: top;\n    }\n\n    .dataframe thead th {\n        text-align: right;\n    }\n</style>\n<table border=\"1\" class=\"dataframe\">\n  <thead>\n    <tr style=\"text-align: right;\">\n      <th></th>\n      <th>premise</th>\n      <th>hypothesis</th>\n      <th>label</th>\n    </tr>\n  </thead>\n  <tbody>\n    <tr>\n      <th>0</th>\n      <td>A person on a horse jumps over a broken down a...</td>\n      <td>A person is training his horse for a competition.</td>\n      <td>neutral</td>\n    </tr>\n    <tr>\n      <th>1</th>\n      <td>A person on a horse jumps over a broken down a...</td>\n      <td>A person is at a din@@ er, ordering an ome@@ l...</td>\n      <td>contradiction</td>\n    </tr>\n    <tr>\n      <th>2</th>\n      <td>A person on a horse jumps over a broken down a...</td>\n      <td>A person is outdoors, on a horse.</td>\n      <td>entailment</td>\n    </tr>\n    <tr>\n      <th>3</th>\n      <td>C@@ hi@@ ld@@ re@@ n smiling and waving at camera</td>\n      <td>T@@ he@@ y are smiling at their parents</td>\n      <td>neutral</td>\n    </tr>\n    <tr>\n      <th>4</th>\n      <td>C@@ hi@@ ld@@ re@@ n smiling and waving at camera</td>\n      <td>T@@ here are children present</td>\n      <td>entailment</td>\n    </tr>\n    <tr>\n      <th>5</th>\n      <td>C@@ hi@@ ld@@ re@@ n smiling and waving at camera</td>\n      <td>T@@ he kids are frowning</td>\n      <td>contradiction</td>\n    </tr>\n    <tr>\n      <th>6</th>\n      <td>A boy is jumping on skateboard in the middle o...</td>\n      <td>T@@ he boy skates down the sidewalk.</td>\n      <td>contradiction</td>\n    </tr>\n    <tr>\n      <th>7</th>\n      <td>A boy is jumping on skateboard in the middle o...</td>\n      <td>T@@ he boy does a skateboarding trick.</td>\n      <td>entailment</td>\n    </tr>\n    <tr>\n      <th>8</th>\n      <td>A boy is jumping on skateboard in the middle o...</td>\n      <td>T@@ he boy is wearing safety equipment.</td>\n      <td>neutral</td>\n    </tr>\n    <tr>\n      <th>9</th>\n      <td>A@@ n older man sits with his orange juice at ...</td>\n      <td>A@@ n older man drinks his juice as he waits f...</td>\n      <td>neutral</td>\n    </tr>\n  </tbody>\n</table>\n</div>"
     },
     "metadata": {},
     "output_type": "execute_result",
     "execution_count": 14
    }
   ],
   "source": [
    "def convert_to_bpe(df):\n",
    "    bpe_df = pd.DataFrame()\n",
    "    bpe_df['premise'] = df['premise'].astype(str).apply(lambda p: bpe.apply([p])[0])\n",
    "    bpe_df['hypothesis'] = df['hypothesis'].astype(str).apply(lambda h: bpe.apply([h])[0])\n",
    "    bpe_df['label'] = df['label']\n",
    "    return bpe_df\n",
    "\n",
    "train_bpe_df = convert_to_bpe(train_df)\n",
    "train_bpe_df[:10]"
   ],
   "metadata": {
    "collapsed": false,
    "pycharm": {
     "name": "#%%\n",
     "is_executing": false
    }
   }
  },
  {
   "cell_type": "markdown",
   "source": [
    "\n",
    "### BPE Sentence Length Analysis\n",
    "- This analysis shows an aproximated max_len that we can use in a neural network while applying bpe"
   ],
   "metadata": {
    "collapsed": false,
    "pycharm": {
     "name": "#%% md\n"
    }
   }
  },
  {
   "cell_type": "code",
   "execution_count": 17,
   "outputs": [
    {
     "data": {
      "text/plain": "            p_length       h_length\ncount  549367.000000  549367.000000\nmean       13.957861       8.470545\nstd         5.947488       3.381312\nmin         2.000000       1.000000\n25%        10.000000       6.000000\n50%        13.000000       8.000000\n75%        17.000000      10.000000\n99.9%      48.000000      28.000000\nmax        86.000000      79.000000",
      "text/html": "<div>\n<style scoped>\n    .dataframe tbody tr th:only-of-type {\n        vertical-align: middle;\n    }\n\n    .dataframe tbody tr th {\n        vertical-align: top;\n    }\n\n    .dataframe thead th {\n        text-align: right;\n    }\n</style>\n<table border=\"1\" class=\"dataframe\">\n  <thead>\n    <tr style=\"text-align: right;\">\n      <th></th>\n      <th>p_length</th>\n      <th>h_length</th>\n    </tr>\n  </thead>\n  <tbody>\n    <tr>\n      <th>count</th>\n      <td>549367.000000</td>\n      <td>549367.000000</td>\n    </tr>\n    <tr>\n      <th>mean</th>\n      <td>13.957861</td>\n      <td>8.470545</td>\n    </tr>\n    <tr>\n      <th>std</th>\n      <td>5.947488</td>\n      <td>3.381312</td>\n    </tr>\n    <tr>\n      <th>min</th>\n      <td>2.000000</td>\n      <td>1.000000</td>\n    </tr>\n    <tr>\n      <th>25%</th>\n      <td>10.000000</td>\n      <td>6.000000</td>\n    </tr>\n    <tr>\n      <th>50%</th>\n      <td>13.000000</td>\n      <td>8.000000</td>\n    </tr>\n    <tr>\n      <th>75%</th>\n      <td>17.000000</td>\n      <td>10.000000</td>\n    </tr>\n    <tr>\n      <th>99.9%</th>\n      <td>48.000000</td>\n      <td>28.000000</td>\n    </tr>\n    <tr>\n      <th>max</th>\n      <td>86.000000</td>\n      <td>79.000000</td>\n    </tr>\n  </tbody>\n</table>\n</div>"
     },
     "metadata": {},
     "output_type": "display_data"
    },
    {
     "data": {
      "text/plain": "<matplotlib.axes._subplots.AxesSubplot at 0x7f4a022844a8>"
     },
     "metadata": {},
     "output_type": "display_data"
    },
    {
     "data": {
      "text/plain": "<Figure size 432x288 with 1 Axes>",
      "image/png": "[encoded data removed]"
     },
     "metadata": {
      "needs_background": "light"
     },
     "output_type": "display_data"
    }
   ],
   "source": [
    "train_bpe_df['p_length'] = train_bpe_df['premise'].astype(str).apply(lambda row: len(row.split()))\n",
    "train_bpe_df['h_length'] = train_bpe_df['hypothesis'].astype(str).apply(lambda row: len(row.split()))\n",
    "len_bpe_df = train_bpe_df[['p_length', 'h_length']]\n",
    "display(len_bpe_df.describe(percentiles=[.25, .5, .75, .999]))\n",
    "display(len_bpe_df.boxplot())"
   ],
   "metadata": {
    "collapsed": false,
    "pycharm": {
     "name": "#%%\n",
     "is_executing": false
    }
   }
  },
  {
   "cell_type": "markdown",
   "source": [
    "\n"
   ],
   "metadata": {
    "collapsed": false
   }
  }
 ],
 "metadata": {
  "language_info": {
   "codemirror_mode": {
    "name": "ipython",
    "version": 2
   },
   "file_extension": ".py",
   "mimetype": "text/x-python",
   "name": "python",
   "nbconvert_exporter": "python",
   "pygments_lexer": "ipython2",
   "version": "2.7.6"
  },
  "kernelspec": {
   "name": "pycharm-342b9ea3",
   "language": "python",
   "display_name": "PyCharm (SNLI-analysis)"
  },
  "stem_cell": {
   "cell_type": "raw",
   "source": "",
   "metadata": {
    "pycharm": {
     "metadata": false
    }
   }
  },
  "pycharm": {
   "stem_cell": {
    "cell_type": "raw",
    "source": [],
    "metadata": {
     "collapsed": false
    }
   }
  }
 },
 "nbformat": 4,
 "nbformat_minor": 0
}